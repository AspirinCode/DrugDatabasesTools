{
 "cells": [
  {
   "cell_type": "code",
   "execution_count": null,
   "metadata": {},
   "outputs": [],
   "source": [
    "import pandas as pd\n",
    "import numpy as np\n",
    "\n",
    "%matplotlib inline\n",
    "from IPython.core.interactiveshell import InteractiveShell\n",
    "InteractiveShell.ast_node_interactivity = \"all\"\n",
    "\n",
    "pd.set_option('display.max_columns', 500)\n",
    "pd.set_option('display.width', 1000)"
   ]
  },
  {
   "cell_type": "markdown",
   "metadata": {},
   "source": [
    "chEmbl information was obtained through a select of the database (into mysql in centOS)"
   ]
  },
  {
   "cell_type": "code",
   "execution_count": null,
   "metadata": {},
   "outputs": [],
   "source": [
    "data=pd.read_csv('../files/product_adme.csv')\n",
    "#removing duplicate and unmeaninfull columns\n",
    "data.drop(columns=[\"md\", \"cp\",\"cr\",\"at\",\"aa\",\"molregno.2\",\"molregno.1\",\"doc_id.1\",\"doc_id.2\",\"molregno.3\",\"doc_id.1\",\"doc_id.2\"],inplace=True)\n",
    "data.drop(columns=[\"src_id.1\",\"chembl_id.1\",\"assay_id.1\",\"record_id.1\"],inplace=True)\n",
    "data.drop(columns=[\"tid\",\"src_assay_id\",\"variant_id\"],inplace=True)\n",
    "data.drop(columns=[\"record_id\",\"doc_id\",\"src_id\",\"src_compound_id\",\"assay_id\", \"assay_category\", \"assay_strain\",\"cell_id\", \"tissue_id\", \"activity_id\",\"assay_tax_id\"],inplace=True)\n",
    "\n"
   ]
  },
  {
   "cell_type": "code",
   "execution_count": null,
   "metadata": {},
   "outputs": [],
   "source": [
    "###treat data\n",
    "data.describe(include=\"all\")      # describe all columns\n",
    "data.max_phase.hist()"
   ]
  },
  {
   "cell_type": "code",
   "execution_count": null,
   "metadata": {},
   "outputs": [],
   "source": [
    "assay"
   ]
  },
  {
   "cell_type": "code",
   "execution_count": null,
   "metadata": {
    "scrolled": true
   },
   "outputs": [],
   "source": [
    "assay=data[[\"chembl_id\",\"compound_key\",\"compound_name\",\"description\",\"assay_type\",\"assay_test_type\",\"assay_organism\",\"assay_tissue\",\"assay_cell_type\",\"assay_subcellular_fraction\",\"tid\",\"relationship_type\",\"confidence_score\",\"curated_by\",\"bao_format\",\"standard_relation\",\"published_value\",\"published_units\",\"standard_value\",\"standard_units\",\"standard_flag\",\"standard_type\",\"activity_comment\",\"published_type\",\"data_validity_comment\",\"potential_duplicate\",\"published_relation\",\"pchembl_value\",\"bao_endpoint\",\"uo_units\",\"qudt_units\"]]\n",
    "data.drop(columns=[\"compound_key\",\"compound_name\",\"description\",\"assay_type\",\"assay_test_type\",\"assay_organism\",\"assay_tissue\",\"assay_cell_type\",\"assay_subcellular_fraction\",\"tid\",\"relationship_type\",\"confidence_score\",\"curated_by\",\"bao_format\",\"standard_relation\",\"published_value\",\"published_units\",\"standard_value\",\"standard_units\",\"standard_flag\",\"standard_type\",\"activity_comment\",\"published_type\",\"data_validity_comment\",\"potential_duplicate\",\"published_relation\",\"pchembl_value\",\"bao_endpoint\",\"uo_units\",\"qudt_units\"],inplace=True)\n",
    "data.shape #(352298, 53)\n",
    "data.drop_duplicates(inplace=True)\n",
    "data.shape #(148173, 53)"
   ]
  },
  {
   "cell_type": "code",
   "execution_count": null,
   "metadata": {},
   "outputs": [],
   "source": [
    "#assay.describe(include=\"all\")\n",
    "assay['Partition coefficient (logP)']=assay[assay[\"description\"]==\"Partition coefficient (logP)\"].standard_value\n",
    "\n",
    "assay[assay[\"description\"]==\"Partition coefficient (logP)\"]\n",
    "test=assay.groupby('description').filter(lambda x: len(x) > 1000)\n",
    "test['description'].value_counts()"
   ]
  },
  {
   "cell_type": "code",
   "execution_count": null,
   "metadata": {},
   "outputs": [],
   "source": [
    "def row_to_columns(df, target):\n",
    "    columns=[]\n",
    "    ndf=df.groupby(target).filter(lambda x: len(x) > 500)\n",
    "    columns=ndf['description'].value_counts().index.tolist()\n",
    "    for column in columns:\n",
    "            df[column]=df[df[target]==column].standard_value\n",
    "            df[column+\"_activity\"]=df[df[target]==column].activity_comment\n",
    "    return df"
   ]
  },
  {
   "cell_type": "code",
   "execution_count": null,
   "metadata": {},
   "outputs": [],
   "source": [
    "tt=row_to_columns(assay,'description')\n",
    "tt[tt[\"description\"]==\"Partition coefficient (logP)\"]"
   ]
  },
  {
   "cell_type": "code",
   "execution_count": null,
   "metadata": {
    "scrolled": false
   },
   "outputs": [],
   "source": [
    "tt[tt[\"chembl_id\"]==\"CHEMBL10\"]"
   ]
  },
  {
   "cell_type": "code",
   "execution_count": 119,
   "metadata": {},
   "outputs": [],
   "source": [
    "data.to_csv('chembl.csv',index=False)"
   ]
  }
 ],
 "metadata": {
  "kernelspec": {
   "display_name": "Python 3",
   "language": "python",
   "name": "python3"
  },
  "language_info": {
   "codemirror_mode": {
    "name": "ipython",
    "version": 3
   },
   "file_extension": ".py",
   "mimetype": "text/x-python",
   "name": "python",
   "nbconvert_exporter": "python",
   "pygments_lexer": "ipython3",
   "version": "3.6.6"
  }
 },
 "nbformat": 4,
 "nbformat_minor": 2
}
