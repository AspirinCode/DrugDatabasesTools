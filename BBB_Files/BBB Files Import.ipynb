{
 "cells": [
  {
   "cell_type": "code",
   "execution_count": null,
   "metadata": {},
   "outputs": [],
   "source": [
    "import pandas as pd\n",
    "import numpy as np\n",
    "from rdkit import Chem\n",
    "\n",
    "%matplotlib inline\n",
    "from IPython.core.interactiveshell import InteractiveShell\n",
    "InteractiveShell.ast_node_interactivity = \"all\""
   ]
  },
  {
   "cell_type": "markdown",
   "metadata": {},
   "source": [
    "These files are from biomedical literature\n",
    "* Import Information from BBB behaviour from excel (BBB1)\n",
    "* From txt files and SDF files (BBB2)\n",
    "* BBB3 ---> BBB2 unique \n",
    "\n",
    "TODO: Canon smiles *Chem.CanonSmiles(\"c1ccccc1NC\")*"
   ]
  },
  {
   "cell_type": "code",
   "execution_count": null,
   "metadata": {},
   "outputs": [],
   "source": [
    "BBB1=pd.read_excel('../files/A_BBB_I.xls')\n",
    "BBB1=BBB1[['SMILES','Endpoints']]\n",
    "BBB1.columns=['smiles','BBB']"
   ]
  },
  {
   "cell_type": "code",
   "execution_count": null,
   "metadata": {},
   "outputs": [],
   "source": [
    "def canonical_smiles(df):\n",
    "    canonical_smiles=[]\n",
    "    for smile in df.smiles:\n",
    "        try:\n",
    "            canonical_smiles.append((Chem.CanonSmiles(smile)))\n",
    "        except:\n",
    "            canonical_smiles.append('')\n",
    "    return canonical_smiles\n",
    "BBB1['canonical_smiles']=canonical_smiles(BBB1)\n",
    "BBB1"
   ]
  },
  {
   "cell_type": "code",
   "execution_count": null,
   "metadata": {},
   "outputs": [],
   "source": [
    "BBB1.to_csv('BBB1.csv',index=False)"
   ]
  },
  {
   "cell_type": "code",
   "execution_count": null,
   "metadata": {},
   "outputs": [],
   "source": [
    "BBB2_0=pd.read_csv('../files/BBB_Dataset_Quantitative/Compounds/id_classification.txt',names=['compounds','value'])\n",
    "BBB2_0=BBB2_0[1:]\n",
    "BBB2_0.reset_index(inplace=True,drop=True)\n",
    "BBB2_0"
   ]
  },
  {
   "cell_type": "code",
   "execution_count": null,
   "metadata": {},
   "outputs": [],
   "source": [
    "smiles=[]\n",
    "for file in BBB2_0.compounds:\n",
    "        for mol in Chem.SDMolSupplier('../files/BBB_Dataset_Quantitative/Compounds/sdfiles/'+file):\n",
    "            if mol!=None:\n",
    "                smiles.append(Chem.MolToSmiles(mol))\n",
    "            else:\n",
    "                smiles.append('null')\n",
    "smiles\n",
    "BBB2_4=pd.DataFrame(smiles)\n",
    "BBB2_4.columns=['SMILES']\n",
    "BBB2_4;"
   ]
  },
  {
   "cell_type": "code",
   "execution_count": null,
   "metadata": {},
   "outputs": [],
   "source": [
    "BBB2_3=pd.read_csv('../files/BBB_Dataset_Quantitative/Compounds/id_classification_3classes_0.3_1.txt')\n",
    "BBB2_3.drop(columns=['+','-'],inplace=True)"
   ]
  },
  {
   "cell_type": "code",
   "execution_count": null,
   "metadata": {},
   "outputs": [],
   "source": [
    "BBB2=BBB2_0.join(BBB2_3,how='outer')\n",
    "BBB2=BBB2.join(BBB2_4,how='outer')\n",
    "BBB2.columns=['compounds','BBB_value','BBB_classification','SMILES']"
   ]
  },
  {
   "cell_type": "code",
   "execution_count": null,
   "metadata": {},
   "outputs": [],
   "source": [
    "canonical_smiles=[]\n",
    "for smile in BBB2.SMILES:\n",
    "    try:\n",
    "        canonical_smiles.append((Chem.CanonSmiles(smile)))\n",
    "    except:\n",
    "        canonical_smiles.append('')\n",
    "BBB2['canonical_smiles']=canonical_smiles\n",
    "BBB2"
   ]
  },
  {
   "cell_type": "code",
   "execution_count": null,
   "metadata": {},
   "outputs": [],
   "source": [
    "BBB2.to_csv('BBB2.csv',index = False)"
   ]
  },
  {
   "cell_type": "code",
   "execution_count": null,
   "metadata": {},
   "outputs": [],
   "source": [
    "BBB3=BBB2"
   ]
  },
  {
   "cell_type": "code",
   "execution_count": null,
   "metadata": {},
   "outputs": [],
   "source": [
    "BBB3.drop(columns=['compounds','BBB_value'],inplace=True)"
   ]
  },
  {
   "cell_type": "code",
   "execution_count": null,
   "metadata": {},
   "outputs": [],
   "source": [
    "BBB3.drop_duplicates(inplace=True)"
   ]
  },
  {
   "cell_type": "code",
   "execution_count": null,
   "metadata": {},
   "outputs": [],
   "source": [
    "BBB3"
   ]
  },
  {
   "cell_type": "code",
   "execution_count": null,
   "metadata": {},
   "outputs": [],
   "source": [
    "BBB3.to_csv(\"BBB3.csv\",index = False)"
   ]
  },
  {
   "cell_type": "code",
   "execution_count": null,
   "metadata": {},
   "outputs": [],
   "source": [
    "BBB4_1=pd.read_csv('../files/BBB_Dataset_Qualitative/Compounds/id_classification.txt')\n",
    "BBB4_1.columns=['dataset','Classification']\n",
    "BBB4_2=pd.read_csv('../files/BBB_Dataset_Qualitative/Compounds/smiles.txt',names=['smiles'])\n",
    "BBB4=BBB4_1.join(BBB4_2)\n",
    "BBB4['canonical_smiles']=canonical_smiles(BBB4)\n",
    "BBB4.drop(columns=['dataset','smiles'],inplace=True)\n",
    "BBB4.drop_duplicates(inplace=True)\n",
    "BBB4.reset_index(inplace=True,drop=True)\n",
    "BBB4.to_csv(\"BBB4.csv\",index = False)"
   ]
  }
 ],
 "metadata": {
  "kernelspec": {
   "display_name": "Python 3",
   "language": "python",
   "name": "python3"
  },
  "language_info": {
   "codemirror_mode": {
    "name": "ipython",
    "version": 3
   },
   "file_extension": ".py",
   "mimetype": "text/x-python",
   "name": "python",
   "nbconvert_exporter": "python",
   "pygments_lexer": "ipython3",
   "version": "3.6.6"
  }
 },
 "nbformat": 4,
 "nbformat_minor": 2
}
