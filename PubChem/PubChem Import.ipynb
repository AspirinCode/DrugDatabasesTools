{
 "cells": [
  {
   "cell_type": "code",
   "execution_count": null,
   "metadata": {},
   "outputs": [],
   "source": [
    "import pubchempy as pcp\n",
    "import pandas as pd\n",
    "import numpy as np\n",
    "from rdkit import Chem\n",
    "import pubchempy as pcp\n",
    "import time\n",
    "\n",
    "pd.set_option('display.max_columns', 500)\n",
    "pd.set_option('display.width', 1000)"
   ]
  },
  {
   "cell_type": "markdown",
   "metadata": {},
   "source": [
    "import pucbhempy and convert the calls into .csv get info [here](https://pubchempy.readthedocs.io/en/latest/guide/properties.html)  \n",
    "for reduced calls, set a limited number of products to add features --> i.e chembl"
   ]
  },
  {
   "cell_type": "code",
   "execution_count": null,
   "metadata": {},
   "outputs": [],
   "source": [
    "#import\n",
    "initialdata=pd.read_csv('../../DrugDiscoveryML/python/chembl_24_bbb2.csv')\n",
    "smiles=initialdata.canonical_smiles.head(5)#test purposes"
   ]
  },
  {
   "cell_type": "code",
   "execution_count": null,
   "metadata": {},
   "outputs": [],
   "source": [
    "cs = pcp.get_compounds('C37H54N4O3', 'formula')\n",
    "df = pcp.compounds_to_frame(cs)\n",
    "df.dtypes"
   ]
  },
  {
   "cell_type": "code",
   "execution_count": null,
   "metadata": {},
   "outputs": [],
   "source": [
    "test = pcp.get_compounds('ClCCCl','smiles', as_dataframe=True)\n",
    "test"
   ]
  },
  {
   "cell_type": "code",
   "execution_count": null,
   "metadata": {},
   "outputs": [],
   "source": [
    "#getting info\n",
    "dlist=[]\n",
    "for smile in smiles:\n",
    "    list_=pcp.get_properties([\"MolecularFormula\", \"MolecularWeight\", \"CanonicalSMILES\", \"IsomericSMILES\", \"InChI\", \"InChIKey\", \"IUPACName\", \"XLogP\", \"ExactMass\", \"MonoisotopicMass\", \"TPSA\", \"Complexity\", \"Charge\", \"HBondDonorCount\", \"HBondAcceptorCount\", \"RotatableBondCount\", \"HeavyAtomCount\", \"IsotopeAtomCount\", \"AtomStereoCount\", \"DefinedAtomStereoCount\", \"UndefinedAtomStereoCount\", \"BondStereoCount\", \"DefinedBondStereoCount\", \"UndefinedBondStereoCount\", \"CovalentUnitCount\", \"Volume3D\", \"XStericQuadrupole3D\", \"YStericQuadrupole3D\", \"ZStericQuadrupole3D\", \"FeatureCount3D\", \"FeatureAcceptorCount3D\", \"FeatureDonorCount3D\", \"FeatureAnionCount3D\", \"FeatureCationCount3D\", \"FeatureRingCount3D\", \"FeatureHydrophobeCount3D\", \"ConformerModelRMSD3D\", \"EffectiveRotorCount3D\", \"ConformerCount3D\"],smile,'smiles')\n",
    "    dlist.append(list_[0])\n",
    "    time.sleep(1)"
   ]
  },
  {
   "cell_type": "code",
   "execution_count": null,
   "metadata": {},
   "outputs": [],
   "source": [
    "data=pd.DataFrame.from_dict(dlist)\n",
    "data.to_csv('pubChem.csv')"
   ]
  }
 ],
 "metadata": {
  "kernelspec": {
   "display_name": "Python 3",
   "language": "python",
   "name": "python3"
  },
  "language_info": {
   "codemirror_mode": {
    "name": "ipython",
    "version": 3
   },
   "file_extension": ".py",
   "mimetype": "text/x-python",
   "name": "python",
   "nbconvert_exporter": "python",
   "pygments_lexer": "ipython3",
   "version": "3.6.6"
  }
 },
 "nbformat": 4,
 "nbformat_minor": 2
}
